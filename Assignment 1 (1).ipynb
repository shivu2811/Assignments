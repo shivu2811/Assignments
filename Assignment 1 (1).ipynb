{
 "cells": [
  {
   "cell_type": "markdown",
   "id": "701218a6-c93b-4118-81e3-204def50e313",
   "metadata": {},
   "source": [
    "## ANS 1"
   ]
  },
  {
   "cell_type": "markdown",
   "id": "e7ebbef2-8c52-4592-908e-14ef4a23aa08",
   "metadata": {},
   "source": [
    "### i) string"
   ]
  },
  {
   "cell_type": "code",
   "execution_count": 1,
   "id": "4f4a39c9-b95c-4b16-aca2-1ee04cabfa3b",
   "metadata": {},
   "outputs": [],
   "source": [
    "s = \"shiv\""
   ]
  },
  {
   "cell_type": "code",
   "execution_count": 2,
   "id": "0f4aff49-6c83-4914-9056-0e57968e55c7",
   "metadata": {},
   "outputs": [
    {
     "data": {
      "text/plain": [
       "str"
      ]
     },
     "execution_count": 2,
     "metadata": {},
     "output_type": "execute_result"
    }
   ],
   "source": [
    "type(s)"
   ]
  },
  {
   "cell_type": "markdown",
   "id": "8bf964a1-efba-4f4a-8001-ea9515cfface",
   "metadata": {},
   "source": [
    "### ii) list"
   ]
  },
  {
   "cell_type": "code",
   "execution_count": 3,
   "id": "83c733b8-2248-475f-890c-e91c4ef30535",
   "metadata": {},
   "outputs": [],
   "source": [
    "l = [1,2,3,4,5, \"shiv\", 3+5j , True , 23.58]"
   ]
  },
  {
   "cell_type": "code",
   "execution_count": 4,
   "id": "e1a3006d-631f-4375-a0b8-47f08be8e7ba",
   "metadata": {},
   "outputs": [
    {
     "data": {
      "text/plain": [
       "list"
      ]
     },
     "execution_count": 4,
     "metadata": {},
     "output_type": "execute_result"
    }
   ],
   "source": [
    "type(l)"
   ]
  },
  {
   "cell_type": "markdown",
   "id": "b6b9c759-7f98-433d-98b0-194b11873a42",
   "metadata": {},
   "source": [
    "### iii) float"
   ]
  },
  {
   "cell_type": "code",
   "execution_count": 6,
   "id": "9953e341-3c02-4ba8-9584-91c0a9ed0fc2",
   "metadata": {},
   "outputs": [],
   "source": [
    "a = 55.23"
   ]
  },
  {
   "cell_type": "code",
   "execution_count": 7,
   "id": "bab41fcc-d5f1-45c5-b514-a3818f4d926b",
   "metadata": {},
   "outputs": [
    {
     "data": {
      "text/plain": [
       "float"
      ]
     },
     "execution_count": 7,
     "metadata": {},
     "output_type": "execute_result"
    }
   ],
   "source": [
    "type(a)"
   ]
  },
  {
   "cell_type": "markdown",
   "id": "2ac8d260-0a08-4d04-af6e-cca77dd8d126",
   "metadata": {},
   "source": [
    "### iv) tuple"
   ]
  },
  {
   "cell_type": "markdown",
   "id": "4e25a45a-5fcf-4a1e-940a-d8af6585aa3f",
   "metadata": {},
   "source": [
    "b = (1,2,3,4,5,6)"
   ]
  },
  {
   "cell_type": "code",
   "execution_count": 9,
   "id": "f0b0ffbd-62b5-4f52-8255-32c0077a0961",
   "metadata": {},
   "outputs": [
    {
     "data": {
      "text/plain": [
       "tuple"
      ]
     },
     "execution_count": 9,
     "metadata": {},
     "output_type": "execute_result"
    }
   ],
   "source": [
    "type(b)"
   ]
  },
  {
   "cell_type": "markdown",
   "id": "239444b8-d8c8-4d7e-9ee4-8f59fe61fc2d",
   "metadata": {},
   "source": [
    "## Ans 2"
   ]
  },
  {
   "cell_type": "markdown",
   "id": "e28fa386-58f3-4c83-92a3-a2ea5e981746",
   "metadata": {},
   "source": [
    "### i) ''"
   ]
  },
  {
   "cell_type": "markdown",
   "id": "882f5cad-dac4-4721-8ae6-9f7e355fff32",
   "metadata": {},
   "source": [
    "### string"
   ]
  },
  {
   "cell_type": "markdown",
   "id": "35a0874c-390c-46ae-914b-8dc330f0fa9b",
   "metadata": {},
   "source": [
    "### ii) '[ DS , ML , PYTHON ]'"
   ]
  },
  {
   "cell_type": "markdown",
   "id": "7e178547-c53a-46c6-b468-86f488597039",
   "metadata": {},
   "source": [
    "### string"
   ]
  },
  {
   "cell_type": "markdown",
   "id": "8ff47c83-37fe-4606-90cf-a8336dc2e269",
   "metadata": {},
   "source": [
    "### iii) [ 'DS , ML , PYTHON' ]"
   ]
  },
  {
   "cell_type": "markdown",
   "id": "7594b546-6ecb-4840-b10f-be277fe06b47",
   "metadata": {},
   "source": [
    "### list"
   ]
  },
  {
   "cell_type": "markdown",
   "id": "da7d4ff4-1aab-4377-aa95-2fa5ae218673",
   "metadata": {},
   "source": [
    "### iv) 1"
   ]
  },
  {
   "cell_type": "markdown",
   "id": "1f2d8e44-1643-453b-b675-e473b80f2709",
   "metadata": {},
   "source": [
    "### integer"
   ]
  },
  {
   "cell_type": "markdown",
   "id": "d328b526-ea0a-49bd-9b9f-9b20d7fce427",
   "metadata": {},
   "source": [
    "### Ans 3"
   ]
  },
  {
   "cell_type": "markdown",
   "id": "d2fa836b-c3ff-4c27-b297-360de9c6e004",
   "metadata": {},
   "source": [
    "### i) /"
   ]
  },
  {
   "cell_type": "markdown",
   "id": "946a4f12-7720-4231-8426-0fda23a7fe5d",
   "metadata": {},
   "source": [
    "#### this is used for dividing 2 numbers and when we divide 2 numbers there will be left floating point value and this will be called /. for eg."
   ]
  },
  {
   "cell_type": "code",
   "execution_count": 10,
   "id": "76217871-0505-4183-a100-29a51173d8c2",
   "metadata": {},
   "outputs": [
    {
     "data": {
      "text/plain": [
       "2.5"
      ]
     },
     "execution_count": 10,
     "metadata": {},
     "output_type": "execute_result"
    }
   ],
   "source": [
    "5/2"
   ]
  },
  {
   "cell_type": "markdown",
   "id": "fdf3bb06-7182-424d-a9bb-6c3cbfc59713",
   "metadata": {},
   "source": [
    "### ii) %"
   ]
  },
  {
   "cell_type": "markdown",
   "id": "0d112f71-72bc-4576-b3bb-5e822ab03d8d",
   "metadata": {},
   "source": [
    "### when we divide two number there will be left remainder and this is called %. for eg. "
   ]
  },
  {
   "cell_type": "code",
   "execution_count": 11,
   "id": "a9cfb05d-4f6f-4546-8a5c-56358fc8246e",
   "metadata": {},
   "outputs": [
    {
     "data": {
      "text/plain": [
       "1"
      ]
     },
     "execution_count": 11,
     "metadata": {},
     "output_type": "execute_result"
    }
   ],
   "source": [
    "5%2"
   ]
  },
  {
   "cell_type": "markdown",
   "id": "15e1b1fe-0e01-40d5-ae08-c4bc2089d550",
   "metadata": {},
   "source": [
    "### iii) //"
   ]
  },
  {
   "cell_type": "markdown",
   "id": "a21fc35b-d57f-4648-aac9-7bdeceaf5131",
   "metadata": {},
   "source": [
    "### If we talk about this, this is a integer division and it returns only quotient. for eg."
   ]
  },
  {
   "cell_type": "code",
   "execution_count": 12,
   "id": "c1e3e66b-0fcd-476e-8f42-f051050b44d2",
   "metadata": {},
   "outputs": [
    {
     "data": {
      "text/plain": [
       "2"
      ]
     },
     "execution_count": 12,
     "metadata": {},
     "output_type": "execute_result"
    }
   ],
   "source": [
    "5//2"
   ]
  },
  {
   "cell_type": "markdown",
   "id": "24391bbc-484b-472a-b42d-f9ed088922a8",
   "metadata": {},
   "source": [
    "### iv) ** "
   ]
  },
  {
   "cell_type": "markdown",
   "id": "b690f562-c096-4ba7-8bca-4960d76f483d",
   "metadata": {},
   "source": [
    "### this is an operator in python which performs exponentiation ( means power value of number ) for eg."
   ]
  },
  {
   "cell_type": "code",
   "execution_count": 13,
   "id": "87958689-4e19-404d-9d07-fbdc5546ad4d",
   "metadata": {},
   "outputs": [
    {
     "data": {
      "text/plain": [
       "25"
      ]
     },
     "execution_count": 13,
     "metadata": {},
     "output_type": "execute_result"
    }
   ],
   "source": [
    "5**2"
   ]
  },
  {
   "cell_type": "markdown",
   "id": "db0ae253-7336-4046-9a9d-50e95d2f7b7e",
   "metadata": {},
   "source": [
    "## ANS 4"
   ]
  },
  {
   "cell_type": "code",
   "execution_count": 17,
   "id": "495bc887-424d-44e8-a598-66cb97cd5a18",
   "metadata": {},
   "outputs": [],
   "source": [
    "l = [ 1,2,3, \"shiv\" , \"data science\" , \"pw skills\" , True , 25 , \"python\" , 29.56] "
   ]
  },
  {
   "cell_type": "code",
   "execution_count": 19,
   "id": "5b40f7f8-6fcd-4550-abe6-1525849d2073",
   "metadata": {},
   "outputs": [
    {
     "name": "stdout",
     "output_type": "stream",
     "text": [
      "1\n",
      "2\n",
      "3\n",
      "shiv\n",
      "data science\n",
      "pw skills\n",
      "True\n",
      "25\n",
      "python\n",
      "29.56\n"
     ]
    }
   ],
   "source": [
    "for i in l :\n",
    "    print(i)"
   ]
  },
  {
   "cell_type": "code",
   "execution_count": 20,
   "id": "d32035d2-6195-4578-823f-e91ee631e09b",
   "metadata": {},
   "outputs": [
    {
     "name": "stdout",
     "output_type": "stream",
     "text": [
      "<class 'int'>\n",
      "<class 'int'>\n",
      "<class 'int'>\n",
      "<class 'str'>\n",
      "<class 'str'>\n",
      "<class 'str'>\n",
      "<class 'bool'>\n",
      "<class 'int'>\n",
      "<class 'str'>\n",
      "<class 'float'>\n"
     ]
    }
   ],
   "source": [
    "for i in l :\n",
    "    print(type(i))"
   ]
  },
  {
   "cell_type": "markdown",
   "id": "e0899542-9813-4572-a343-5722a5f657cd",
   "metadata": {},
   "source": [
    "## Ans 5"
   ]
  },
  {
   "cell_type": "markdown",
   "id": "5550c284-854e-45c4-afc2-2925342ea396",
   "metadata": {},
   "source": [
    "## Ans 6"
   ]
  },
  {
   "cell_type": "code",
   "execution_count": 21,
   "id": "432dbaad-df83-4f47-a0ff-69c4759c643b",
   "metadata": {},
   "outputs": [],
   "source": [
    "l = [1,2,3,4,5,6,7,8,9,10,11,12,13,14,15,16,17,18,19,20,21,22,23,24,25]"
   ]
  },
  {
   "cell_type": "code",
   "execution_count": 22,
   "id": "d0845b66-2a7f-4a41-a015-8c56e2f3a9df",
   "metadata": {},
   "outputs": [
    {
     "ename": "SyntaxError",
     "evalue": "expected ':' (3735851799.py, line 2)",
     "output_type": "error",
     "traceback": [
      "\u001b[0;36m  Cell \u001b[0;32mIn[22], line 2\u001b[0;36m\u001b[0m\n\u001b[0;31m    if i%3==0\u001b[0m\n\u001b[0m             ^\u001b[0m\n\u001b[0;31mSyntaxError\u001b[0m\u001b[0;31m:\u001b[0m expected ':'\n"
     ]
    }
   ],
   "source": [
    "for i in l :\n",
    "    if i%3==0"
   ]
  },
  {
   "cell_type": "markdown",
   "id": "31c552aa-da1a-4ab6-b343-93581e9357d5",
   "metadata": {},
   "source": [
    "## Ans 7"
   ]
  },
  {
   "cell_type": "markdown",
   "id": "48b7327f-506c-4e8e-8b7e-65624bea4a69",
   "metadata": {},
   "source": [
    "## mutable data type"
   ]
  },
  {
   "cell_type": "markdown",
   "id": "eb5e7334-fc6e-4fc6-8af3-18cb4a0b3a8e",
   "metadata": {},
   "source": [
    "### we can change the value of mutable objects after initialization. and lists are mutable object."
   ]
  },
  {
   "cell_type": "markdown",
   "id": "b269225f-bccd-4a73-84ab-69c9c6a1b794",
   "metadata": {},
   "source": [
    "for eg."
   ]
  },
  {
   "cell_type": "code",
   "execution_count": 24,
   "id": "8ff4a1e8-a968-46e0-967f-2ee2518abcbd",
   "metadata": {},
   "outputs": [],
   "source": [
    "l = [1,2,3,4,5, \"shiv\" , True , 23.56]"
   ]
  },
  {
   "cell_type": "code",
   "execution_count": 25,
   "id": "35e4bd15-3e53-46cc-a567-f0d4ef2fb858",
   "metadata": {},
   "outputs": [
    {
     "data": {
      "text/plain": [
       "list"
      ]
     },
     "execution_count": 25,
     "metadata": {},
     "output_type": "execute_result"
    }
   ],
   "source": [
    "type(l)"
   ]
  },
  {
   "cell_type": "code",
   "execution_count": 26,
   "id": "c9ecca24-b411-4e17-b72b-fb44e9d2ddbb",
   "metadata": {},
   "outputs": [
    {
     "data": {
      "text/plain": [
       "[1, 2, 3, 4, 5, 'shiv', True, 23.56]"
      ]
     },
     "execution_count": 26,
     "metadata": {},
     "output_type": "execute_result"
    }
   ],
   "source": [
    "l"
   ]
  },
  {
   "cell_type": "code",
   "execution_count": 28,
   "id": "e712b992-fa5c-4799-bb4e-bbc13446f098",
   "metadata": {},
   "outputs": [],
   "source": [
    "l[5] = \"shivani\""
   ]
  },
  {
   "cell_type": "code",
   "execution_count": 29,
   "id": "9cb4d310-f3dd-4393-aa6c-2887fb05dcb0",
   "metadata": {},
   "outputs": [
    {
     "data": {
      "text/plain": [
       "[1, 2, 3, 4, 5, 'shivani', True, 23.56]"
      ]
     },
     "execution_count": 29,
     "metadata": {},
     "output_type": "execute_result"
    }
   ],
   "source": [
    "l"
   ]
  },
  {
   "cell_type": "markdown",
   "id": "50ecf443-c57a-4b0b-8ab1-608e1fa905b2",
   "metadata": {},
   "source": [
    "### As we can see that we can change the object after initialization."
   ]
  },
  {
   "cell_type": "markdown",
   "id": "60da1fe1-a3b9-43bc-9ea9-2b05025a1e3d",
   "metadata": {},
   "source": [
    "## Immutable data type"
   ]
  },
  {
   "cell_type": "markdown",
   "id": "e7da4f0d-a8f8-4e32-aeda-31773a59c574",
   "metadata": {},
   "source": [
    "### Once an immutable object is initiated, we can not change its values. And string object is immutable."
   ]
  },
  {
   "cell_type": "markdown",
   "id": "badf4afc-c5d9-44c1-b457-c213283fcca8",
   "metadata": {},
   "source": [
    "#### for eg."
   ]
  },
  {
   "cell_type": "code",
   "execution_count": 30,
   "id": "82338a95-daf1-466c-99a5-0b0765d19330",
   "metadata": {},
   "outputs": [],
   "source": [
    "s = \"shivani\""
   ]
  },
  {
   "cell_type": "code",
   "execution_count": 31,
   "id": "764c9705-11d5-459c-b466-a87ae807dad4",
   "metadata": {},
   "outputs": [
    {
     "data": {
      "text/plain": [
       "str"
      ]
     },
     "execution_count": 31,
     "metadata": {},
     "output_type": "execute_result"
    }
   ],
   "source": [
    "type(s)"
   ]
  },
  {
   "cell_type": "code",
   "execution_count": 34,
   "id": "ada13fc7-c354-4812-bd50-6db5b56ad70d",
   "metadata": {},
   "outputs": [
    {
     "data": {
      "text/plain": [
       "'n'"
      ]
     },
     "execution_count": 34,
     "metadata": {},
     "output_type": "execute_result"
    }
   ],
   "source": [
    "s[5]"
   ]
  },
  {
   "cell_type": "code",
   "execution_count": 36,
   "id": "757bbeb2-4b01-472d-9a8c-492f88373d3a",
   "metadata": {},
   "outputs": [
    {
     "ename": "TypeError",
     "evalue": "'str' object does not support item assignment",
     "output_type": "error",
     "traceback": [
      "\u001b[0;31m---------------------------------------------------------------------------\u001b[0m",
      "\u001b[0;31mTypeError\u001b[0m                                 Traceback (most recent call last)",
      "Cell \u001b[0;32mIn[36], line 1\u001b[0m\n\u001b[0;32m----> 1\u001b[0m \u001b[43ms\u001b[49m\u001b[43m[\u001b[49m\u001b[38;5;241;43m5\u001b[39;49m\u001b[43m]\u001b[49m \u001b[38;5;241m=\u001b[39m \u001b[38;5;124m\"\u001b[39m\u001b[38;5;124mp\u001b[39m\u001b[38;5;124m\"\u001b[39m\n",
      "\u001b[0;31mTypeError\u001b[0m: 'str' object does not support item assignment"
     ]
    }
   ],
   "source": [
    "s[5] = \"p\""
   ]
  },
  {
   "cell_type": "markdown",
   "id": "a44561e5-24e1-4084-862c-991a1c57b7fc",
   "metadata": {},
   "source": [
    "### hence prove. we can se here string object can not change its values so this is a immutable data type"
   ]
  },
  {
   "cell_type": "code",
   "execution_count": null,
   "id": "e235b025-3266-4cae-8e49-ecdbd9a128e0",
   "metadata": {},
   "outputs": [],
   "source": []
  }
 ],
 "metadata": {
  "kernelspec": {
   "display_name": "Python 3 (ipykernel)",
   "language": "python",
   "name": "python3"
  },
  "language_info": {
   "codemirror_mode": {
    "name": "ipython",
    "version": 3
   },
   "file_extension": ".py",
   "mimetype": "text/x-python",
   "name": "python",
   "nbconvert_exporter": "python",
   "pygments_lexer": "ipython3",
   "version": "3.10.8"
  }
 },
 "nbformat": 4,
 "nbformat_minor": 5
}
